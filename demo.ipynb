{
 "cells": [
  {
   "cell_type": "code",
   "execution_count": 112,
   "metadata": {},
   "outputs": [],
   "source": [
    "import earthshadow"
   ]
  },
  {
   "cell_type": "markdown",
   "metadata": {},
   "source": [
    "The radius is calculated for an observer at the center of the Earth. \n",
    "This is the easiest way to check if an object is in the shadow, see `dist_from_shadow_center` below. "
   ]
  },
  {
   "cell_type": "code",
   "execution_count": 113,
   "metadata": {},
   "outputs": [
    {
     "data": {
      "text/latex": [
       "$72.751794 \\; \\mathrm{{}^{\\circ}}$"
      ],
      "text/plain": [
       "<Quantity 72.75179437 deg>"
      ]
     },
     "execution_count": 113,
     "metadata": {},
     "output_type": "execute_result"
    }
   ],
   "source": [
    "earthshadow.get_shadow_radius(orbit='leo')"
   ]
  },
  {
   "cell_type": "markdown",
   "metadata": {},
   "source": [
    "The shadow is much smaller when it intersects the higher geosynchronous orbit:"
   ]
  },
  {
   "cell_type": "code",
   "execution_count": 114,
   "metadata": {},
   "outputs": [
    {
     "data": {
      "text/latex": [
       "$8.6907055 \\; \\mathrm{{}^{\\circ}}$"
      ],
      "text/plain": [
       "<Quantity 8.69070548 deg>"
      ]
     },
     "execution_count": 114,
     "metadata": {},
     "output_type": "execute_result"
    }
   ],
   "source": [
    "earthshadow.get_shadow_radius(orbit='geo')"
   ]
  },
  {
   "cell_type": "markdown",
   "metadata": {},
   "source": [
    "Now we can check the object's distance from the center of the shadow. \n",
    "This depends on the position of the observer and time of day. \n",
    "The observer time/position affects how a coordinate (RA/Dec, which is a point at infinity) \n",
    "is translated to a point intersecting the orbit. \n",
    "Note that the resulting answer is returned as an angle measured from the center of the earth, \n",
    "    so it can be compared with the output of `get_shadow_radius` above."
   ]
  },
  {
   "cell_type": "code",
   "execution_count": 115,
   "metadata": {},
   "outputs": [
    {
     "data": {
      "text/plain": [
       "GeodeticLocation(lon=<Longitude -116.863 deg>, lat=<Latitude 33.356 deg>, height=<Quantity 1706. m>)"
      ]
     },
     "execution_count": 115,
     "metadata": {},
     "output_type": "execute_result"
    }
   ],
   "source": [
    "from astropy.coordinates import EarthLocation\n",
    "obs=EarthLocation.of_site('Palomar')\n",
    "obs.to_geodetic()"
   ]
  },
  {
   "cell_type": "markdown",
   "metadata": {},
   "source": [
    "Local time at Palomar is about an hour after sunset."
   ]
  },
  {
   "cell_type": "code",
   "execution_count": 116,
   "metadata": {},
   "outputs": [
    {
     "name": "stdout",
     "output_type": "stream",
     "text": [
      "UTC time: 2019-07-01 04:35:48.001935+00:00, local time: 2019-06-30 21:35:48.001935-07:00\n"
     ]
    }
   ],
   "source": [
    "from astropy.time import Time\n",
    "import pytz, datetime\n",
    "\n",
    "ra = 221.9927447\n",
    "dec= 0.9557557\n",
    "\n",
    "jd= 2458665.6915278\n",
    "t = Time(jd, format='jd', location=obs)\n",
    "dt = t.datetime.replace(tzinfo=datetime.timezone.utc)\n",
    "\n",
    "print(\n",
    "        f'UTC time: {dt.astimezone(pytz.timezone(\"UTC\"))}, '\n",
    "        f'local time: {dt.astimezone(pytz.timezone(\"US/Pacific\"))}'\n",
    "    )\n"
   ]
  },
  {
   "cell_type": "markdown",
   "metadata": {},
   "source": [
    "Get the sun's position and the anti-sun point's position: "
   ]
  },
  {
   "cell_type": "code",
   "execution_count": 117,
   "metadata": {},
   "outputs": [
    {
     "name": "stdout",
     "output_type": "stream",
     "text": [
      "Sun: 99.6 deg, 23.1 deg | anti sun: 279.6 deg, -23.1 deg\n"
     ]
    }
   ],
   "source": [
    "from astropy.coordinates import get_sun\n",
    "sun = get_sun(t)\n",
    "anti_sun = earthshadow.get_anti_sun(jd)\n",
    "print(f'Sun: {sun.ra:.1f}, {sun.dec:.1f} | anti sun: {anti_sun.ra:.1f}, {anti_sun.dec:.1f}')"
   ]
  },
  {
   "cell_type": "markdown",
   "metadata": {},
   "source": [
    "Target is close to the prime meridian: "
   ]
  },
  {
   "cell_type": "code",
   "execution_count": 118,
   "metadata": {},
   "outputs": [
    {
     "name": "stdout",
     "output_type": "stream",
     "text": [
      "LST: 231.0 deg, RA= 222.0 deg\n"
     ]
    }
   ],
   "source": [
    "lst = t.sidereal_time(\"mean\").value*15\n",
    "print(f'LST: {lst:.1f} deg, RA= {ra:.1f} deg')"
   ]
  },
  {
   "cell_type": "markdown",
   "metadata": {},
   "source": [
    "Because we are looking at LEO, the part of the sky we are observing is always going \n",
    "to be close to where we are on Earth (RA->LST, Dec->lat). \n",
    "Since the observatory (LST, lat) is (231, 33) and the anti sun is (280, -23), the expected delta is just: "
   ]
  },
  {
   "cell_type": "code",
   "execution_count": 119,
   "metadata": {},
   "outputs": [],
   "source": [
    "obs_ra=obs.get_gcrs(t).ra\n",
    "obs_dec=obs.get_gcrs(t).dec"
   ]
  },
  {
   "cell_type": "code",
   "execution_count": 120,
   "metadata": {},
   "outputs": [
    {
     "data": {
      "text/latex": [
       "$74.545699 \\; \\mathrm{{}^{\\circ}}$"
      ],
      "text/plain": [
       "<Quantity 74.54569878 deg>"
      ]
     },
     "execution_count": 120,
     "metadata": {},
     "output_type": "execute_result"
    }
   ],
   "source": [
    "import numpy as np\n",
    "np.sqrt((obs_ra-anti_sun.ra)**2 + (obs_dec-anti_sun.dec)**2)"
   ]
  },
  {
   "cell_type": "markdown",
   "metadata": {},
   "source": [
    "Which is close to what we get using the calculator. "
   ]
  },
  {
   "cell_type": "code",
   "execution_count": 121,
   "metadata": {},
   "outputs": [
    {
     "data": {
      "text/latex": [
       "[$72^\\circ17{}^\\prime19.97972226{}^{\\prime\\prime}$]"
      ],
      "text/plain": [
       "<Angle [72.28888326] deg>"
      ]
     },
     "execution_count": 121,
     "metadata": {},
     "output_type": "execute_result"
    }
   ],
   "source": [
    "earthshadow.dist_from_shadow_center(ra=ra, dec=dec, time=jd, orbit='leo', obs=obs)"
   ]
  },
  {
   "cell_type": "markdown",
   "metadata": {},
   "source": [
    "This is outside the shadow, because the radius is 72 degrees, and we need to also include about 2 degrees for atmospheric refraction (which shrinks the shadow). "
   ]
  },
  {
   "cell_type": "markdown",
   "metadata": {},
   "source": [
    "If we observe the same coordinates but ask about GEO orbit (where there is much lower parallax), \n",
    "we should use the coordinates of the target, not the observatory's LST/lat."
   ]
  },
  {
   "cell_type": "code",
   "execution_count": 122,
   "metadata": {},
   "outputs": [
    {
     "data": {
      "text/plain": [
       "62.4449908914747"
      ]
     },
     "execution_count": 122,
     "metadata": {},
     "output_type": "execute_result"
    }
   ],
   "source": [
    "np.sqrt((ra-anti_sun.ra.value)**2 + (dec-anti_sun.dec.value)**2)"
   ]
  },
  {
   "cell_type": "markdown",
   "metadata": {},
   "source": [
    "Indeed this is already much closer to the exact number from the calculator. "
   ]
  },
  {
   "cell_type": "code",
   "execution_count": 123,
   "metadata": {},
   "outputs": [
    {
     "data": {
      "text/latex": [
       "[$62^\\circ09{}^\\prime36.98155868{}^{\\prime\\prime}$]"
      ],
      "text/plain": [
       "<Angle [62.16027266] deg>"
      ]
     },
     "execution_count": 123,
     "metadata": {},
     "output_type": "execute_result"
    }
   ],
   "source": [
    "earthshadow.dist_from_shadow_center(ra=ra, dec=dec, time=jd, orbit='geo', obs=obs)"
   ]
  },
  {
   "cell_type": "markdown",
   "metadata": {},
   "source": [
    "If we were observing a field close to the prime meridian around midnight, it would be closer to the center of the shadow:"
   ]
  },
  {
   "cell_type": "code",
   "execution_count": 124,
   "metadata": {},
   "outputs": [
    {
     "name": "stdout",
     "output_type": "stream",
     "text": [
      "UTC time: 2019-07-01 07:59:48.001929+00:00, local time: 2019-07-01 00:59:48.001929-07:00\n"
     ]
    }
   ],
   "source": [
    "from astropy.time import Time\n",
    "import datetime\n",
    "import pytz\n",
    "jd=2458665.6915278 + 0.1 + 1/24  # add a few hours to get to midnight (1am for daylight saving)! \n",
    "t = Time(jd, format='jd', location=obs)\n",
    "dt = t.datetime.replace(tzinfo=datetime.timezone.utc)\n",
    "print(\n",
    "        f'UTC time: {dt.astimezone(pytz.timezone(\"UTC\"))}, '\n",
    "        f'local time: {dt.astimezone(pytz.timezone(\"US/Pacific\"))}'\n",
    "    )\n"
   ]
  },
  {
   "cell_type": "markdown",
   "metadata": {},
   "source": [
    "This time the observatory's LST should be closer to the anti-sun's RA=280"
   ]
  },
  {
   "cell_type": "code",
   "execution_count": 125,
   "metadata": {},
   "outputs": [
    {
     "name": "stdout",
     "output_type": "stream",
     "text": [
      "observatory coordinates: 282.0 deg, 33.2 deg\n"
     ]
    }
   ],
   "source": [
    "obs_ra=obs.get_gcrs(t).ra\n",
    "obs_dec=obs.get_gcrs(t).dec\n",
    "print(f'observatory coordinates: {obs_ra:.1f}, {obs_dec:.1f}')"
   ]
  },
  {
   "cell_type": "markdown",
   "metadata": {},
   "source": [
    "The rough estimate of the angle difference would still be quite large, because of the declination difference:"
   ]
  },
  {
   "cell_type": "code",
   "execution_count": 126,
   "metadata": {},
   "outputs": [
    {
     "data": {
      "text/latex": [
       "$56.350441 \\; \\mathrm{{}^{\\circ}}$"
      ],
      "text/plain": [
       "<Quantity 56.35044123 deg>"
      ]
     },
     "execution_count": 126,
     "metadata": {},
     "output_type": "execute_result"
    }
   ],
   "source": [
    "np.sqrt((obs_ra-anti_sun.ra)**2+(obs_dec-anti_sun.dec)**2)"
   ]
  },
  {
   "cell_type": "code",
   "execution_count": 127,
   "metadata": {},
   "outputs": [
    {
     "data": {
      "text/latex": [
       "[$54^\\circ50{}^\\prime08.54577793{}^{\\prime\\prime}$]"
      ],
      "text/plain": [
       "<Angle [54.83570716] deg>"
      ]
     },
     "execution_count": 127,
     "metadata": {},
     "output_type": "execute_result"
    }
   ],
   "source": [
    "earthshadow.dist_from_shadow_center(ra=ra, dec=dec, time=jd, orbit='leo', obs=obs)"
   ]
  },
  {
   "cell_type": "markdown",
   "metadata": {},
   "source": [
    "If we observe GEO the actual coordinates we put in will be much closer to the coordinates. We can specify a new target that is on the prime meridian and on the ecliptic (declination of the anti solar point):"
   ]
  },
  {
   "cell_type": "markdown",
   "metadata": {},
   "source": [
    "The distance from the shadow's center should be a few degrees. \n",
    "It is really important to consider the parallax here, since Palomar is at +33 and the anti-solar point is at -23"
   ]
  },
  {
   "cell_type": "code",
   "execution_count": 128,
   "metadata": {},
   "outputs": [
    {
     "data": {
      "text/plain": [
       "62.4449908914747"
      ]
     },
     "execution_count": 128,
     "metadata": {},
     "output_type": "execute_result"
    }
   ],
   "source": [
    "np.sqrt((ra - anti_sun.ra.value)**2 + (dec-anti_sun.dec.value)**2)"
   ]
  },
  {
   "cell_type": "code",
   "execution_count": 129,
   "metadata": {},
   "outputs": [
    {
     "data": {
      "text/latex": [
       "[$7^\\circ31{}^\\prime11.67369315{}^{\\prime\\prime}$]"
      ],
      "text/plain": [
       "<Angle [7.51990936] deg>"
      ]
     },
     "execution_count": 129,
     "metadata": {},
     "output_type": "execute_result"
    }
   ],
   "source": [
    "ra=obs_ra.value\n",
    "dec=anti_sun.dec.value\n",
    "earthshadow.dist_from_shadow_center(ra=ra, dec=dec, time=jd, orbit='geo', obs=obs)"
   ]
  },
  {
   "cell_type": "markdown",
   "metadata": {},
   "source": [
    "If we ask for a much higher orbit the distance should converge to the naive calculation:"
   ]
  },
  {
   "cell_type": "code",
   "execution_count": 130,
   "metadata": {},
   "outputs": [
    {
     "data": {
      "text/latex": [
       "[$2^\\circ05{}^\\prime28.07925865{}^{\\prime\\prime}$]"
      ],
      "text/plain": [
       "<Angle [2.09113313] deg>"
      ]
     },
     "execution_count": 130,
     "metadata": {},
     "output_type": "execute_result"
    }
   ],
   "source": [
    "earthshadow.dist_from_shadow_center(ra=ra, dec=dec, time=jd, orbit=1e6, obs=obs)"
   ]
  }
 ],
 "metadata": {
  "kernelspec": {
   "display_name": "Python 3",
   "language": "python",
   "name": "python3"
  },
  "language_info": {
   "codemirror_mode": {
    "name": "ipython",
    "version": 3
   },
   "file_extension": ".py",
   "mimetype": "text/x-python",
   "name": "python",
   "nbconvert_exporter": "python",
   "pygments_lexer": "ipython3",
   "version": "3.8.10"
  }
 },
 "nbformat": 4,
 "nbformat_minor": 4
}
